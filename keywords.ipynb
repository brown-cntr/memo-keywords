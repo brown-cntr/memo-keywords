{
 "cells": [
  {
   "cell_type": "markdown",
   "id": "ff3bdf46-1c85-4857-977d-788639d83eb8",
   "metadata": {},
   "source": [
    "# Find keywords and create report"
   ]
  },
  {
   "cell_type": "markdown",
   "id": "e3e7af78-5e1f-4820-8eb3-4e9807056207",
   "metadata": {},
   "source": [
    "This notebook uses information from the `extract.ipynb` to limit to only government-scoped state bills and find keywords based on different categories with regular expression. "
   ]
  },
  {
   "cell_type": "markdown",
   "id": "1a79d4ca-e243-471e-b303-a8f0496b7267",
   "metadata": {},
   "source": [
    "## Import"
   ]
  },
  {
   "cell_type": "code",
   "execution_count": null,
   "id": "5fcc48db-a4e5-4c25-b128-4f42d544fe01",
   "metadata": {
    "tags": []
   },
   "outputs": [],
   "source": [
    "import os\n",
    "import glob\n",
    "import shutil\n",
    "import re\n",
    "from typing import Dict, List\n",
    "\n",
    "import numpy as np\n",
    "import pandas as pd\n",
    "\n",
    "from tqdm.notebook import tqdm\n",
    "from tqdm.contrib.concurrent import process_map\n",
    "from functools import partial"
   ]
  },
  {
   "cell_type": "code",
   "execution_count": null,
   "id": "162da74d-2e67-4fc5-a5c0-b9c7a9e03dfb",
   "metadata": {},
   "outputs": [],
   "source": [
    "import seaborn as sns\n",
    "import matplotlib.pyplot as plt\n",
    "plt.style.use('mpl.sty.yml')"
   ]
  },
  {
   "cell_type": "markdown",
   "id": "9b807d90-8bd2-4a08-b4f6-6bac140aefd9",
   "metadata": {},
   "source": [
    "## Read data"
   ]
  },
  {
   "cell_type": "markdown",
   "id": "d8c5f9d3-70f8-4c78-97d6-70d2cdd6b90d",
   "metadata": {},
   "source": [
    "### Bill data"
   ]
  },
  {
   "cell_type": "code",
   "execution_count": null,
   "id": "8f8c764b-00b5-42df-a07d-9f8fd2966705",
   "metadata": {
    "tags": []
   },
   "outputs": [],
   "source": [
    "df = pd.read_json('data/bill_data.json')\n",
    "df['text'] = df['text'].str.lower()"
   ]
  },
  {
   "cell_type": "code",
   "execution_count": null,
   "id": "b14993ec-9dc0-44cc-8dd0-cad7ec3983c8",
   "metadata": {
    "tags": []
   },
   "outputs": [],
   "source": [
    "df['has_ai_ads'] = ~df.filter(regex='^query_').agg(\n",
    "    lambda x: ' '.join(list(set(np.concatenate(list(x))))),\n",
    "    axis=1\n",
    ").str.extract(\n",
    "    r'(artificial intelligence|automat\\w* decision)',\n",
    "    expand=False\n",
    ").isna()"
   ]
  },
  {
   "cell_type": "code",
   "execution_count": null,
   "id": "7770fc8d-e8e4-4264-bccd-88340178d9ac",
   "metadata": {
    "tags": []
   },
   "outputs": [],
   "source": [
    "df = (\n",
    "    df\n",
    "    .query(\n",
    "        '''\n",
    "        (curated or has_ai_ads)\n",
    "        and\n",
    "        first_date.str.contains(\"2023|2024\", regex=True)\n",
    "        and \n",
    "        jurisdiction_code != \"US\"\n",
    "    '''.replace('\\n',' ').strip()\n",
    "    )\n",
    "    .reset_index(drop=True)\n",
    "    .set_index([\n",
    "        'bill_id'\n",
    "    ])\n",
    ")\n",
    "\n",
    "\n",
    "df['classification'] = df['classification'].apply(\n",
    "    lambda x: '; '.join(x)\n",
    ")\n",
    "df"
   ]
  },
  {
   "cell_type": "markdown",
   "id": "d44a4fb5-ed2f-4125-9baf-83101fd35576",
   "metadata": {},
   "source": [
    "### Extracted data"
   ]
  },
  {
   "cell_type": "code",
   "execution_count": null,
   "id": "bdb0572f-3d12-49e4-ab3d-99f3016d9fa8",
   "metadata": {
    "tags": []
   },
   "outputs": [],
   "source": [
    "extract_df = (\n",
    "    pd.read_csv('data/memo-criteria-extract.csv')\n",
    "    .fillna({\n",
    "        'excerpt_government_scope': '',\n",
    "        'ai_governance_body_names': '',\n",
    "        'excerpt_harmonization': ''\n",
    "    })\n",
    "    .reset_index(drop=True)\n",
    ")"
   ]
  },
  {
   "cell_type": "code",
   "execution_count": null,
   "id": "d6d94dcf-9adb-43c3-9f98-4e0b3dcea212",
   "metadata": {
    "tags": []
   },
   "outputs": [],
   "source": [
    "extract_df['jurisdiction_code'].unique()"
   ]
  },
  {
   "cell_type": "code",
   "execution_count": null,
   "id": "717aa27e-1735-41b0-958c-d85ebc725ee3",
   "metadata": {
    "tags": []
   },
   "outputs": [],
   "source": [
    "print('Total state bills:', extract_df['bill_id'].nunique())\n",
    "print('First date:', extract_df['first_date'].min())\n",
    "print('Has gov scoped suggested by ChatGPT:', \n",
    "      extract_df.drop_duplicates('bill_id')['has_government_scope'].sum()\n",
    " )"
   ]
  },
  {
   "cell_type": "code",
   "execution_count": null,
   "id": "3ede56db-b216-4eca-96bf-a0897ee5a7c3",
   "metadata": {
    "tags": []
   },
   "outputs": [],
   "source": [
    "# limit to only government scoped as suggested by LLM\n",
    "extract_df = (\n",
    "    extract_df.query('has_government_scope')\n",
    "    .set_index('bill_id')\n",
    ")"
   ]
  },
  {
   "cell_type": "code",
   "execution_count": null,
   "id": "059599c2-e256-4264-887c-ff599955fbe9",
   "metadata": {
    "tags": []
   },
   "outputs": [],
   "source": [
    "# note: commissions are usually more short-term, not considering\n",
    "extract_df['ai_governance_body_names'].unique()"
   ]
  },
  {
   "cell_type": "markdown",
   "id": "aa2ddfea-034e-4b38-a10e-75a88edaccc6",
   "metadata": {},
   "source": [
    "### Combine"
   ]
  },
  {
   "cell_type": "code",
   "execution_count": null,
   "id": "454290c2-2caa-4847-a6a0-d4fdc2475305",
   "metadata": {
    "tags": []
   },
   "outputs": [],
   "source": [
    "df = (\n",
    "    extract_df\n",
    "    .filter(set(extract_df.columns) - set(df.columns))\n",
    "    .join(df)\n",
    ")"
   ]
  },
  {
   "cell_type": "code",
   "execution_count": null,
   "id": "6aa533f6-c4ef-4a25-ab0d-fc0f16316ae2",
   "metadata": {
    "tags": []
   },
   "outputs": [],
   "source": [
    "df"
   ]
  },
  {
   "cell_type": "markdown",
   "id": "0d3fc95a-f3a4-4fa0-9552-3737934a1c6d",
   "metadata": {},
   "source": [
    "## Keyword regular expressions"
   ]
  },
  {
   "cell_type": "code",
   "execution_count": null,
   "id": "68aa8bee-f0e3-4da8-8a8d-721fdb13dc95",
   "metadata": {},
   "outputs": [],
   "source": [
    "max_words_before = 4\n",
    "max_words_after = 12\n",
    "max_words_harmonize = 15 # harmonize a bit more complicated"
   ]
  },
  {
   "cell_type": "code",
   "execution_count": null,
   "id": "2858ec58-d6e5-4376-83ce-08e771d32bc4",
   "metadata": {},
   "outputs": [],
   "source": [
    "space_regex = r'\\s*[^\\w\\.\\?\\!]?\\s*'\n",
    "\n",
    "AI_regex = '(' + (r'|'.join([\n",
    "    r'\\bai\\b',\n",
    "    fr'(generative{space_regex})?artificial{space_regex}intelligence',\n",
    "    fr'automat(ed|ic){space_regex}decision{space_regex}(making)?{space_regex}systems?',\n",
    "    fr'frontier{space_regex}model',\n",
    "    fr'(face|facial|iris|gait){space_regex}(recog|match)\\w*',\n",
    "])) + ')'\n",
    "\n",
    "board_regex = '(' + (r'|'.join([\n",
    "    fr'governance{space_regex}bod(y|ies)',\n",
    "    r'\\w*cabinet',\n",
    "    fr'(governance{space_regex})?board',\n",
    "    r'council',\n",
    "    fr'(ethic\\w*){space_regex}commission',\n",
    "    r'division',\n",
    "    r'\\boffice\\b',\n",
    "    r'department',\n",
    "    r'agency',\n",
    "    r'branch',\n",
    "    # r'institut\\w*', # usually academic, not government\n",
    "    # r'committee', # tend to be short-term?\n",
    "    # r'commission', # tend to be short-term?\n",
    "])) + ')'\n",
    "\n",
    "impact_regex = r'(impact|use|\\w*[^\\w]?risk)'"
   ]
  },
  {
   "cell_type": "code",
   "execution_count": null,
   "id": "115f7bbb-2ace-4aef-aecf-41496e53c90e",
   "metadata": {},
   "outputs": [],
   "source": [
    "patterns = [\n",
    "    dict(\n",
    "        name = 'AIOfficer',\n",
    "        pattern = fr'(chief)?{space_regex}{AI_regex}{space_regex}officer',\n",
    "        desc = '''\n",
    "This is detecting `chief`, then a few potential AI-related terms:\n",
    "\n",
    "- `AI`\n",
    "- `artificial intelligence`\n",
    "- `automated decision (making) system`\n",
    "- `frontier model`\n",
    "- `face/facial/iris/gait recog/match`\n",
    "\n",
    "then `officer`.\n",
    "\n",
    "'''\n",
    "    ),\n",
    "    dict(\n",
    "        name = 'GovBody',\n",
    "        pattern = (\n",
    "            '(' + (r'|'.join([\n",
    "                fr'{AI_regex}{space_regex}{board_regex}',\n",
    "                fr'{board_regex}{space_regex}(of|on|for){space_regex}{AI_regex}',       \n",
    "            ])) + ')'\n",
    "        ),\n",
    "        desc = '''\n",
    "This is detecting AI-related terms:\n",
    "\n",
    "- `AI`\n",
    "- `artificial intelligence`\n",
    "- `automated decision (making) system`\n",
    "- `frontier model`\n",
    "- `face/facial/iris/gait recog/match`\n",
    "\n",
    "then board-related terms:\n",
    "\n",
    "- `governance body`\n",
    "- `cabinet`\n",
    "- `board`\n",
    "- `council`\n",
    "- `division`\n",
    "- `office` (but not `officer`)\n",
    "- `department`\n",
    "- `agency`\n",
    "- `branch`\n",
    "- `(ethics) commission`\n",
    "\n",
    "This detects both:\n",
    "\n",
    "- AI-related terms, then board-related terms;\n",
    "- as well as: board-related terms, followed by `of|on|for` then AI-related terms.\n",
    "\n",
    "This is a difficult category to capture correctly with just word detection and will need manual verification.\n",
    "\n",
    "'''\n",
    "    ),\n",
    "    dict(\n",
    "        name = 'Inventory',\n",
    "        pattern = (\n",
    "            '(' + (r'|'.join([\n",
    "                fr'{AI_regex}(\\w+\\s+){{,{max_words_before}}}inventor(y|ies)',\n",
    "                fr'inventor(y|ies){space_regex}(\\w+\\s+){{,{max_words_after}}}{AI_regex}',\n",
    "                fr'{impact_regex}(\\w+\\s+){{,{max_words_before}}}inventor(y|ies)',\n",
    "                fr'inventor(y|ies){space_regex}(\\w+\\s+){{,{max_words_after}}}{impact_regex}',\n",
    "            ])) + ')'\n",
    "        ),\n",
    "        desc = '''\n",
    "This is detecting either:\n",
    "\n",
    "- AI-related terms:\n",
    "    - `AI`\n",
    "    - `artificial intelligence`\n",
    "    - `automated decision (making) system`\n",
    "    - `frontier model`\n",
    "    - `face/facial/iris/gait recog/match`\n",
    "- or impact related terms:\n",
    "    - `impact`\n",
    "    - `use`\n",
    "    - `risk`\n",
    "    \n",
    "then the word `inventory`.\n",
    "\n",
    "This also detects the other way around: `inventory`, then AI/impact-related terms.\n",
    "\n",
    "Note that this also allows for some words in between of AI/impact-related terms and `inventory`\n",
    "to allow more flexible capturing of such pairing.\n",
    "\n",
    "'''\n",
    "    ),\n",
    "    dict( \n",
    "        name = 'Procurement',\n",
    "        pattern = (\n",
    "            '(' + (r'|'.join([\n",
    "                fr'{AI_regex}(\\w+\\s+){{,{max_words_before}}}(procur|purchas|acqui(r|s))\\w*',\n",
    "                fr'(procur|purchas|acqui(r|s))\\w*{space_regex}(\\w+\\s+){{,{max_words_after}}}{AI_regex}',\n",
    "            ])) + ')'\n",
    "        ),\n",
    "        desc = '''\n",
    "This is detecting AI-related terms:\n",
    "\n",
    "- `AI`\n",
    "- `artificial intelligence`\n",
    "- `automated decision (making) system`\n",
    "- `frontier model`\n",
    "- `face/facial/iris/gait recog/match`\n",
    "    \n",
    "then the procurement-related terms:\n",
    "\n",
    "- `procure`\n",
    "- `purchase`\n",
    "- `acquire` (or `acquis` for `acquisition`)\n",
    "\n",
    "This also allows the other way around: procurement- then AI-related terms.\n",
    "\n",
    "Note that this also allows for some words in between of AI-related terms \n",
    "and procurement-related terms to allow more flexible capturing of such pairing.\n",
    "'''\n",
    "    ),\n",
    "    dict(\n",
    "        name = 'ImpactAssess',\n",
    "        pattern = (\n",
    "            '(' + (r'|'.join([\n",
    "                fr'{impact_regex}{space_regex}(assess|evaluat|manage)\\w*',\n",
    "                fr'(assess|evaluat|manage){space_regex}(\\w+\\s+){{,{max_words_after}}}{impact_regex}',\n",
    "            ])) + ')'\n",
    "        ),\n",
    "        desc = '''\n",
    "This is detecting impact-related terms:\n",
    "\n",
    "- `impact`\n",
    "- `use`\n",
    "- `risk`\n",
    "\n",
    "then the assessment-related verbs:\n",
    "\n",
    "- `assess`\n",
    "- `evaluate`\n",
    "- `manage`\n",
    "\n",
    "This also allows the other way around: assessment- then AI-related terms.\n",
    "\n",
    "For impact-related then verbs, no flexible wording in between is considered.\n",
    "\n",
    "However, for the other way around, verb then impact, some words in between are allowed.\n",
    "\n",
    "'''\n",
    "    ),\n",
    "    dict(\n",
    "        name = 'PotentialHarmonize',\n",
    "        pattern = (\n",
    "            '(' + (r'|'.join([\n",
    "                fr'{board_regex}(\\w+\\s+){{,{max_words_harmonize}}}(harmoniz|collab|coordinat)\\w*',\n",
    "                fr'(harmoniz|collab|coordinat)\\w*(\\w+\\s+){{,{max_words_harmonize}}}{space_regex}{board_regex}',\n",
    "            ])) + ')'\n",
    "        ),\n",
    "        desc = '''\n",
    "This is detecting board-related terms:\n",
    "\n",
    "- `governance body`\n",
    "- `cabinet`\n",
    "- `board`\n",
    "- `council`\n",
    "- `division`\n",
    "- `office` (but not `officer`)\n",
    "- `department`\n",
    "- `agency`\n",
    "- `branch`\n",
    "- `(ethics) commission`  \n",
    "\n",
    "then possible harmonization verbs:\n",
    "\n",
    "- `harmonize`\n",
    "- `collaborate`\n",
    "- `coordinate`\n",
    "\n",
    "This detects also the other way around and also allows for flexible wordings between.\n",
    "\n",
    "This is a very difficult category to operationalize, highly prone to false positives. This really needs manual verification.\n",
    "\n",
    "'''\n",
    "    ),\n",
    "]\n",
    "\n",
    "\n",
    "for i in range(len(patterns)):\n",
    "    p = patterns[i]\n",
    "    p['regex'] = re.compile(p['pattern'].lower())\n"
   ]
  },
  {
   "cell_type": "markdown",
   "id": "669acf38-c52f-4d43-bbaf-4bc94ee561f1",
   "metadata": {},
   "source": [
    "## Perform keyword search"
   ]
  },
  {
   "cell_type": "code",
   "execution_count": null,
   "id": "79dc4158-5012-4985-9c18-c5377a2f05dc",
   "metadata": {},
   "outputs": [],
   "source": [
    "text_records = df[['text']].reset_index().to_dict('records')"
   ]
  },
  {
   "cell_type": "code",
   "execution_count": null,
   "id": "28c9bfc3-03e2-40f6-8e54-b5e5f6811e35",
   "metadata": {},
   "outputs": [],
   "source": [
    "def query_1_bill(record, patterns=[]):\n",
    "    bill_id = record['bill_id']\n",
    "    text = record['text']\n",
    "    \n",
    "    out = dict(bill_id=bill_id)    \n",
    "    for p in patterns:\n",
    "        f = []\n",
    "        for fi in p['regex'].finditer(text):\n",
    "            f.append(re.sub('\\s', ' ', fi.group()).strip())\n",
    "        out[p['name']] = f\n",
    "        \n",
    "    return out\n",
    "\n",
    "results = process_map(\n",
    "    partial(\n",
    "        query_1_bill,\n",
    "        patterns=patterns\n",
    "    ),\n",
    "    text_records,\n",
    "    max_workers=4\n",
    ")"
   ]
  },
  {
   "cell_type": "markdown",
   "id": "96b9939d-06ce-406c-be16-50084c0c1fb5",
   "metadata": {},
   "source": [
    "## Process output"
   ]
  },
  {
   "cell_type": "code",
   "execution_count": null,
   "id": "021a62e6-520f-4d9f-92c8-2e82775269be",
   "metadata": {
    "tags": []
   },
   "outputs": [],
   "source": [
    "kwdf = (\n",
    "    pd.DataFrame(results)\n",
    "    .melt(\n",
    "        id_vars='bill_id',\n",
    "        var_name='keyword_category',\n",
    "        value_name='keyword'\n",
    "    )\n",
    "    .explode('keyword')\n",
    "    .dropna()\n",
    "    .reset_index(drop=True)\n",
    ")"
   ]
  },
  {
   "cell_type": "code",
   "execution_count": null,
   "id": "aa39b452-7c6a-4742-b7f5-fbbf552ac012",
   "metadata": {},
   "outputs": [],
   "source": [
    "cdf = (\n",
    "    kwdf\n",
    "    .groupby(['bill_id','keyword_category'])\n",
    "    ['keyword'].agg(lambda x: list(set(x)))\n",
    "    .to_frame('keywords')\n",
    "    .reset_index()\n",
    "    .merge(\n",
    "        df.reset_index()\n",
    "        .filter([\n",
    "            'bill_id', 'identifier', 'session', 'classification',\n",
    "            'jurisdiction', 'jurisdiction_code', 'title', 'first_date',\n",
    "            'has_government_scope', 'excerpt_government_scope',\n",
    "            'has_ai_governance_body', 'ai_governance_body_names',\n",
    "            'has_harmonization', 'excerpt_harmonization',\n",
    "            'source', 'openstates_url', 'plural_url',\n",
    "        ]),\n",
    "    )\n",
    "    .merge(\n",
    "        pd.DataFrame(patterns)\n",
    "        .filter(['name', 'desc'])\n",
    "        .rename(columns={\n",
    "            'name': 'keyword_category',\n",
    "            'desc': 'category_description'\n",
    "        })\n",
    "    )\n",
    ")\n",
    "cdf"
   ]
  },
  {
   "cell_type": "code",
   "execution_count": null,
   "id": "7212e7cb-8511-4e8e-a5d9-f469377914f0",
   "metadata": {},
   "outputs": [],
   "source": [
    "cdf['bill_id'].nunique()"
   ]
  },
  {
   "cell_type": "markdown",
   "id": "2ed875d0-a85f-4fe8-a88b-ff82ac791cc3",
   "metadata": {},
   "source": [
    "## Visualize bill counts"
   ]
  },
  {
   "cell_type": "code",
   "execution_count": null,
   "id": "55619926-3fdb-4aef-bdeb-a517010604e4",
   "metadata": {},
   "outputs": [],
   "source": [
    "vdf = (\n",
    "    cdf\n",
    "    .value_counts([\n",
    "        'jurisdiction', 'jurisdiction_code',\n",
    "        'keyword_category', \n",
    "    ])\n",
    "    .to_frame('num_bills')\n",
    "    .reset_index()\n",
    ")\n",
    "\n",
    "vdf\n",
    "    "
   ]
  },
  {
   "cell_type": "code",
   "execution_count": null,
   "id": "8346c2ad-edbf-4b37-9012-7a94b0055218",
   "metadata": {
    "tags": []
   },
   "outputs": [],
   "source": [
    "(\n",
    "    sns.catplot(\n",
    "        vdf,\n",
    "        y='jurisdiction_code',\n",
    "        x='num_bills',\n",
    "        col = 'keyword_category',\n",
    "        col_order=pd.DataFrame(patterns)['name'],\n",
    "        kind = 'bar',\n",
    "        height = 15,\n",
    "        aspect = 0.3,\n",
    "        sharex=False,\n",
    "        sharey=True,\n",
    "        width=0.7,\n",
    "        color='#6baed6',\n",
    "    )\n",
    "    .tick_params(\n",
    "        left=True,\n",
    "        labelleft=True,\n",
    "    )\n",
    "    .despine(\n",
    "        trim=True,\n",
    "        offset=10\n",
    "    )\n",
    "    .set_xlabels(label='# Bills')\n",
    "    .set_ylabels(label='State')\n",
    "    .set_titles('{col_name}')\n",
    "    .tight_layout()\n",
    ")\n",
    "\n",
    "plt.savefig('docs/bill_count.pdf')"
   ]
  },
  {
   "cell_type": "markdown",
   "id": "68d97a7c-9bca-4a70-a298-e98bdce4df43",
   "metadata": {},
   "source": [
    "## Create detailed reports"
   ]
  },
  {
   "cell_type": "code",
   "execution_count": null,
   "id": "630a894f-52b2-40bd-883c-d4b762da08f2",
   "metadata": {
    "tags": []
   },
   "outputs": [],
   "source": [
    "text = r'''\n",
    "---\n",
    "geometry:\n",
    "    - margin=0.5in\n",
    "output: pdf_document\n",
    "colorlinks: true\n",
    "fontsize: 9pt\n",
    "toc: false\n",
    "urlcolor: \"violet\"\n",
    "header-includes:\n",
    "    - \\usepackage{titling}\n",
    "    - \\setlength{\\droptitle}{-7em}\n",
    "    - \\pagenumbering{gobble}\n",
    "    - \\setlength{\\parindent}{0em}\n",
    "    - \\usepackage{sansmathfonts}\n",
    "    - \\usepackage[T1]{fontenc}\n",
    "    - \\usepackage{graphicx}\n",
    "    - \\renewcommand*\\familydefault{\\sfdefault} \n",
    "    - \\usepackage{wrapfig}\n",
    "    - \\usepackage{booktabs}\n",
    "    - \\usepackage[export]{adjustbox}\n",
    "    - \\newcommand{\\forceindent}{\\leavevmode{\\parindent=1em\\indent}}\n",
    "    - \\usepackage{fvextra}\n",
    "    - \\DefineVerbatimEnvironment{Highlighting}{Verbatim}{breaklines,commandchars=\\\\\\{\\}}\n",
    "---\n",
    "\n",
    "# State bills with found keywords from Memo 2024\n",
    "\n",
    "\\begin{figure}[h]\n",
    "    \\centering\n",
    "    \\includegraphics[width=\\textwidth, angle=0]{docs/bill_count.pdf}\n",
    "    \\caption{\\textbf{Preliminary government-scoped} bill counts per ``categories'' across states}\n",
    "\\end{figure}\n",
    "\n",
    "'''"
   ]
  },
  {
   "cell_type": "code",
   "execution_count": null,
   "id": "d795d140-54e6-4576-a407-1e5c81c2ae90",
   "metadata": {
    "tags": []
   },
   "outputs": [],
   "source": [
    "main_prompt = r'''\n",
    "You are a helpful assistant for legislators, researchers and lawyers.\n",
    "You are given a task to read a bill and extract necessary information from them.\n",
    "Below are the variables and instructions:\n",
    "\n",
    "1. `has_government_scope`: Indicates whether the bill has government scope: a bill has government scope if it governs the government's use of artificial intelligence (AI) or automated decision systems (ADS) in its operations. This scope specifically focuses on the **government**'s use and procurement of these technologies.\n",
    "\n",
    "Instruction: \n",
    "- First, answer only \"Yes\" or \"No\".\n",
    "- If \"Yes\", also include 1-2 sentence excerpts from the text to support the government scope, label variable as `excerpt_government_scope`.\n",
    "\n",
    "2. `has_ai_governance_body`: Indicates whether the bill designates, indicates or establishes an AI governance body: an AI governance body is a group of people in the within a government entity or organization that has the authority to manage and oversee the use of AI or ADS by that entity or organization.\n",
    "\n",
    "Instruction: \n",
    "- First, answer only \"Yes\" or \"No\".\n",
    "- If \"Yes\", also include the name(s) of the governance body, label variable as `ai_governance_body_names`.\n",
    "\n",
    "3. `has_harmonization`: Indicates whether the bill outlines intent or strategy to harmonize legislation between state and federal government. Harmonization is defined as cooperation between different state and federal jurisdictions \\ \n",
    "to make laws identical or at least more similar.\n",
    "\n",
    "Instruction: \n",
    "- First, answer only \"Yes\" or \"No\".\n",
    "- If \"Yes\", also include 1-2 sentence excerpts from the text to support existence of hamornization, label variable as `excerpt_harmonization`.\n",
    " \n",
    "\n",
    "Use only the definitions and follow instructions here.\n",
    "Only use the existing text as reference. Do not make things up.\n",
    "If you know an answer is empty, just use an empty string \"\". \n",
    "If you do not know an answer for a variable, just answer as \"unknown\".\n",
    "\n",
    "Please output as a JSON format.\n",
    "\n",
    "Here is the text:\n",
    "\n",
    "{text}\n",
    "\n",
    "JSON_OUTPUT:\n",
    "'''"
   ]
  },
  {
   "cell_type": "code",
   "execution_count": null,
   "id": "eccf969f-0240-48ee-94c8-bafb619870a8",
   "metadata": {
    "tags": []
   },
   "outputs": [],
   "source": [
    "text += fr'''\n",
    "\n",
    "## Methods\n",
    "\n",
    "### OpenAI extraction\n",
    "\n",
    "Below is the main prompt (there is also a refinement prompt when the text is long not shown here):\n",
    "\n",
    "```text\n",
    "{main_prompt}\n",
    "```\n",
    "\n",
    "'''"
   ]
  },
  {
   "cell_type": "code",
   "execution_count": null,
   "id": "ce3659d0-cf0f-4d66-8972-dae762adea53",
   "metadata": {
    "tags": []
   },
   "outputs": [],
   "source": [
    "text += '''\n",
    "\n",
    "### Keyword detection categories\n",
    "\n",
    "''' + '\\n'.join(\n",
    "    cdf[['keyword_category', 'category_description']]\n",
    "    .drop_duplicates()\n",
    "    .apply(\n",
    "        lambda x:     \n",
    "'''\n",
    "### *{keyword_category}*\n",
    "\n",
    "{category_description}\n",
    "\n",
    "'''.format(**x),\n",
    "        axis=1\n",
    "    )\n",
    ")\n"
   ]
  },
  {
   "cell_type": "code",
   "execution_count": null,
   "id": "60ad77fa-b9b8-4827-b8cb-92fc7c511f15",
   "metadata": {
    "tags": []
   },
   "outputs": [],
   "source": [
    "bill_detail_texts = '''\n",
    "## Bill details\n",
    "'''\n",
    "\n",
    "for i, bill_id in enumerate(cdf['bill_id'].unique()):\n",
    "    sel_cdf = cdf.query('bill_id == @bill_id')\n",
    "    extract_dict = {\n",
    "        k: v if type(v) != str else v if len(v) > 0 else 'NA'\n",
    "        for k, v in sel_cdf.iloc[0].to_dict().items()\n",
    "        if k in [\n",
    "            'bill_id',\n",
    "            'jurisdiction',\n",
    "            'session',\n",
    "            'title',\n",
    "            'has_government_scope',\n",
    "            'excerpt_government_scope',\n",
    "            'has_ai_governance_body',\n",
    "            'ai_governance_body_names',\n",
    "            'has_harmonization',\n",
    "            'excerpt_harmonization'\n",
    "        ]\n",
    "    }\n",
    "                    \n",
    "    bill_detail_texts += '''\n",
    "### {index}. `{bill_id}`\n",
    "\n",
    "- Title: *{title}*\n",
    "- From: {jurisdiction}, session `{session}`\n",
    "- OpenAI extraction results:\n",
    "    - `has_government_scope`: {has_government_scope}\n",
    "        - relevant excerpt: *{excerpt_government_scope}*\n",
    "    - `has_ai_governance_body`: {has_ai_governance_body}\n",
    "        - governance bodies: *{ai_governance_body_names}*\n",
    "    - `has_harmonization`: {has_harmonization}\n",
    "        - relevant excerpt: *{excerpt_harmonization}*\n",
    "\n",
    "'''.format(**extract_dict, index=i+1)\n",
    "    \n",
    "    bill_detail_texts += '''\n",
    "    \n",
    "- Keyword category detection results:\n",
    "\n",
    "'''\n",
    "\n",
    "    for _, row in sel_cdf.iterrows():\n",
    "        bill_detail_texts += '''\n",
    "    - *{keyword_category}*\n",
    "{keyword_list}\n",
    "'''.format(\n",
    "            keyword_category = row['keyword_category'],\n",
    "            keyword_list = '\\n'.join(['\\t\\t- *%s*' %(x) for x in row['keywords']])\n",
    "        )\n",
    "\n",
    "with open('docs/bill_details.md', 'w') as f:\n",
    "    f.write(text + bill_detail_texts)\n",
    "    \n",
    "!pandoc -s docs/bill_details.md -o docs/bill_details.pdf\n"
   ]
  }
 ],
 "metadata": {
  "kernelspec": {
   "display_name": "datavis",
   "language": "python",
   "name": "datavis"
  },
  "language_info": {
   "codemirror_mode": {
    "name": "ipython",
    "version": 3
   },
   "file_extension": ".py",
   "mimetype": "text/x-python",
   "name": "python",
   "nbconvert_exporter": "python",
   "pygments_lexer": "ipython3",
   "version": "3.9.9"
  },
  "scenes_data": {
   "active_scene": "Default Scene",
   "init_scene": "",
   "scenes": [
    "Default Scene"
   ]
  },
  "widgets": {
   "application/vnd.jupyter.widget-state+json": {
    "state": {
     "349f62d8fcfe4392b33be9226c57cc22": {
      "model_module": "@jupyter-widgets/controls",
      "model_module_version": "2.0.0",
      "model_name": "HTMLStyleModel",
      "state": {
       "description_width": "",
       "font_size": null,
       "text_color": null
      }
     },
     "5a0dbd433c6d4ad6830b4c5eb800bf98": {
      "model_module": "@jupyter-widgets/controls",
      "model_module_version": "2.0.0",
      "model_name": "HBoxModel",
      "state": {
       "children": [
        "IPY_MODEL_f86fa253d1c9415b88a037aeefb0dee2",
        "IPY_MODEL_ed9632ea2b85448f9975df4bb4edc928",
        "IPY_MODEL_e91d8807b32d4fcf965d9439362eca38"
       ],
       "layout": "IPY_MODEL_b37e8c21eca0475ab0ae994d2c92db16"
      }
     },
     "5e0f812eacbb44d39675034ab94bb65a": {
      "model_module": "@jupyter-widgets/controls",
      "model_module_version": "2.0.0",
      "model_name": "HTMLStyleModel",
      "state": {
       "description_width": "",
       "font_size": null,
       "text_color": null
      }
     },
     "607d511b30734b88858c7a1ab0caaa52": {
      "model_module": "@jupyter-widgets/base",
      "model_module_version": "2.0.0",
      "model_name": "LayoutModel",
      "state": {}
     },
     "842ac413a2744570a82aae1cd531d213": {
      "model_module": "@jupyter-widgets/controls",
      "model_module_version": "2.0.0",
      "model_name": "ProgressStyleModel",
      "state": {
       "description_width": ""
      }
     },
     "857882540ab640f2a8afbb0ba26efaad": {
      "model_module": "@jupyter-widgets/base",
      "model_module_version": "2.0.0",
      "model_name": "LayoutModel",
      "state": {}
     },
     "b37e8c21eca0475ab0ae994d2c92db16": {
      "model_module": "@jupyter-widgets/base",
      "model_module_version": "2.0.0",
      "model_name": "LayoutModel",
      "state": {}
     },
     "c11bd7f9af604ff5937644a5d7bc8121": {
      "model_module": "@jupyter-widgets/base",
      "model_module_version": "2.0.0",
      "model_name": "LayoutModel",
      "state": {}
     },
     "e91d8807b32d4fcf965d9439362eca38": {
      "model_module": "@jupyter-widgets/controls",
      "model_module_version": "2.0.0",
      "model_name": "HTMLModel",
      "state": {
       "layout": "IPY_MODEL_607d511b30734b88858c7a1ab0caaa52",
       "style": "IPY_MODEL_5e0f812eacbb44d39675034ab94bb65a",
       "value": " 114/114 [00:01&lt;00:00,  2.85it/s]"
      }
     },
     "ed9632ea2b85448f9975df4bb4edc928": {
      "model_module": "@jupyter-widgets/controls",
      "model_module_version": "2.0.0",
      "model_name": "FloatProgressModel",
      "state": {
       "bar_style": "success",
       "layout": "IPY_MODEL_857882540ab640f2a8afbb0ba26efaad",
       "max": 114,
       "style": "IPY_MODEL_842ac413a2744570a82aae1cd531d213",
       "value": 114
      }
     },
     "f86fa253d1c9415b88a037aeefb0dee2": {
      "model_module": "@jupyter-widgets/controls",
      "model_module_version": "2.0.0",
      "model_name": "HTMLModel",
      "state": {
       "layout": "IPY_MODEL_c11bd7f9af604ff5937644a5d7bc8121",
       "style": "IPY_MODEL_349f62d8fcfe4392b33be9226c57cc22",
       "value": "100%"
      }
     }
    },
    "version_major": 2,
    "version_minor": 0
   }
  }
 },
 "nbformat": 4,
 "nbformat_minor": 5
}
